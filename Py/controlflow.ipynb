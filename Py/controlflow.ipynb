{
 "cells": [
  {
   "cell_type": "markdown",
   "metadata": {},
   "source": [
    "# Control Flow [ref](https://docs.python.org/3/tutorial/controlflow.html)\n",
    "\n",
    "## if elif\n"
   ]
  },
  {
   "cell_type": "code",
   "execution_count": null,
   "metadata": {},
   "outputs": [],
   "source": []
  },
  {
   "cell_type": "markdown",
   "metadata": {},
   "source": [
    "## while break continue\n"
   ]
  },
  {
   "cell_type": "code",
   "execution_count": null,
   "metadata": {},
   "outputs": [],
   "source": []
  },
  {
   "cell_type": "markdown",
   "metadata": {},
   "source": [
    "## for i in range(), `else` clause\n"
   ]
  },
  {
   "cell_type": "code",
   "execution_count": 25,
   "metadata": {},
   "outputs": [
    {
     "name": "stdout",
     "output_type": "stream",
     "text": [
      "2 is a prime number\n",
      "3 is a prime number\n",
      "4 equals 2 * 2\n",
      "5 is a prime number\n",
      "6 equals 2 * 3\n",
      "7 is a prime number\n",
      "8 equals 2 * 4\n",
      "9 equals 3 * 3\n"
     ]
    }
   ],
   "source": [
    "for n in range(2, 10):\n",
    "    for x in range(2, n):\n",
    "        if n % x == 0:\n",
    "            print(n, 'equals', x, '*', n//x)\n",
    "            break\n",
    "    else:\n",
    "        # loop fell through without finding a factor\n",
    "        print(n, 'is a prime number')"
   ]
  },
  {
   "cell_type": "markdown",
   "metadata": {},
   "source": [
    "## pass statement\n",
    "\n",
    "no action, can be used as place-holder(so that you can working on other code)\n"
   ]
  },
  {
   "cell_type": "code",
   "execution_count": 26,
   "metadata": {},
   "outputs": [],
   "source": [
    "class MyEmptyClass:\n",
    "    pass  # creating minimal classes\n",
    "\n",
    "\n",
    "def initlog(*args):\n",
    "    pass   # Remember to implement this!\n",
    "\n",
    "\n",
    "# while True:\n",
    "#    pass  # Busy-wait for keyboard interrupt (Ctrl+C)"
   ]
  },
  {
   "cell_type": "markdown",
   "metadata": {},
   "source": [
    "## match [ref](https://zhuanlan.zhihu.com/p/357412487)\n",
    "\n",
    "like switch:\n",
    "\n",
    "- `|` means or, can conbine several literals\n",
    "- the “variable name” `_` acts as a wildcard and never fails to match\n"
   ]
  },
  {
   "cell_type": "code",
   "execution_count": 27,
   "metadata": {},
   "outputs": [],
   "source": [
    "def http_error(status):\n",
    "    match status:\n",
    "        case 400:\n",
    "            return \"Bad request\"\n",
    "        case 401 | 403 | 404:\n",
    "            return \"Not allowed\"\n",
    "        case 404:\n",
    "            return \"Not found\"\n",
    "        case 418:\n",
    "            return \"I'm a teapot\"\n",
    "        case _:\n",
    "            return \"Something's wrong with the Internet\""
   ]
  },
  {
   "cell_type": "markdown",
   "metadata": {},
   "source": [
    "Structural Pattern Matching:\n",
    "\n",
    "- the \"structure\" to be match: list, tuple, class, list of classes ...\n",
    "- for dict, only the key mentioned in the pattern will be checked, ignoring the extra keys\n"
   ]
  },
  {
   "cell_type": "code",
   "execution_count": 28,
   "metadata": {},
   "outputs": [
    {
     "data": {
      "text/plain": [
       "True"
      ]
     },
     "execution_count": 28,
     "metadata": {},
     "output_type": "execute_result"
    }
   ],
   "source": [
    "def dict_test(d):\n",
    "    match d:\n",
    "        case {'a': 1}:\n",
    "            return True\n",
    "        case {'a': 1, 'b': 2}:\n",
    "            return False\n",
    "\n",
    "\n",
    "dict_test({'a': 1})\n",
    "\n",
    "dict_test({'a': 1, 'b': 2})\n",
    "# also return True since the first case only checks 'a' key"
   ]
  },
  {
   "cell_type": "markdown",
   "metadata": {},
   "source": [
    "- A guard (adding `if` guard clause, just like `A if <Condition> else B`)\n",
    "- can be used for [dataclass](https://docs.python.org/3/library/dataclasses.html?highlight=dataclass#module-dataclasses), otherwise `__match_args__` should be set (so that the order is specified)\n"
   ]
  },
  {
   "cell_type": "code",
   "execution_count": 29,
   "metadata": {},
   "outputs": [
    {
     "name": "stdout",
     "output_type": "stream",
     "text": [
      "The point is located on the diagonal Y=X at 1.\n"
     ]
    }
   ],
   "source": [
    "class Point:\n",
    "    __match_args__ = ('x', 'y')\n",
    "\n",
    "    def __init__(self, x, y):\n",
    "        self.x = x\n",
    "        self.y = y\n",
    "\n",
    "# from dataclasses import dataclass\n",
    "\n",
    "# @dataclass\n",
    "# class Point:\n",
    "#     x: int\n",
    "#     y: int\n",
    "\n",
    "\n",
    "point = Point(1, 1)\n",
    "\n",
    "match point:\n",
    "    case Point(x=x, y=y) if x == y:  # guard clause\n",
    "        print(f\"The point is located on the diagonal Y=X at {x}.\")\n",
    "    case Point(x=x, y=y):\n",
    "        print(f\"Point is not on the diagonal.\")"
   ]
  },
  {
   "cell_type": "markdown",
   "metadata": {},
   "source": [
    "- Subpatterns may be captured using the as keyword: `case (Point(x1, y1), Point(x2, y2) as p2): ...` will capture the second element of the input as p2 (as long as the input is a sequence of two points)\n",
    "\n",
    "- Most literals are compared by equality, however the singletons `True`, `False` and `None` are compared by identity.\n",
    "- Patterns may use named constants. These must be dotted names to prevent them from being interpreted as capture variable:\n"
   ]
  },
  {
   "cell_type": "markdown",
   "metadata": {},
   "source": [
    "- Most literals are compared by equality, however the singletons `True`, `False` and `None` are compared by identity.\n",
    "- Patterns may use named constants. These must be dotted names to prevent them from being interpreted as capture variable:\n"
   ]
  },
  {
   "cell_type": "code",
   "execution_count": 30,
   "metadata": {},
   "outputs": [
    {
     "name": "stdout",
     "output_type": "stream",
     "text": [
      "I'm feeling the blues :(\n"
     ]
    }
   ],
   "source": [
    "from enum import Enum\n",
    "\n",
    "\n",
    "class Color(Enum):\n",
    "    RED = 'red'\n",
    "    GREEN = 'green'\n",
    "    BLUE = 'blue'\n",
    "\n",
    "\n",
    "color = Color(input(\"Enter your choice of 'red', 'blue' or 'green': \"))\n",
    "\n",
    "match color:\n",
    "    case Color.RED:\n",
    "        print(\"I see red!\")\n",
    "    case Color.GREEN:\n",
    "        print(\"Grass is green\")\n",
    "    case Color.BLUE:\n",
    "        print(\"I'm feeling the blues :(\")"
   ]
  }
 ],
 "metadata": {
  "kernelspec": {
   "display_name": "Python 3",
   "language": "python",
   "name": "python3"
  },
  "language_info": {
   "codemirror_mode": {
    "name": "ipython",
    "version": 3
   },
   "file_extension": ".py",
   "mimetype": "text/x-python",
   "name": "python",
   "nbconvert_exporter": "python",
   "pygments_lexer": "ipython3",
   "version": "3.10.6"
  }
 },
 "nbformat": 4,
 "nbformat_minor": 2
}
