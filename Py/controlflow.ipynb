{
 "cells": [
  {
   "cell_type": "markdown",
   "metadata": {},
   "source": [
    "# Control Flow [/ref](https://docs.python.org/3/tutorial/controlflow.html)\n",
    "\n",
    "## if elif\n"
   ]
  },
  {
   "cell_type": "code",
   "execution_count": null,
   "metadata": {},
   "outputs": [],
   "source": [
    "x = int(input(\"Please enter an integer: \"))\n",
    "\n",
    "if x < 0:  # no brackets needed, remember `:`\n",
    "    x = 0\n",
    "    print('Negative changed to zero')\n",
    "elif x == 0:\n",
    "    print('Zero')\n",
    "elif x == 1:\n",
    "    print('Single')\n",
    "else:\n",
    "    print('More')"
   ]
  },
  {
   "cell_type": "markdown",
   "metadata": {},
   "source": [
    "## while break continue\n"
   ]
  },
  {
   "cell_type": "code",
   "execution_count": 4,
   "metadata": {},
   "outputs": [
    {
     "name": "stdout",
     "output_type": "stream",
     "text": [
      "Found an odd number 9\n",
      "Found an even number 8\n",
      "Found an odd number 7\n",
      "Found an even number 6\n",
      "Found an odd number 5\n",
      "Found an even number 4\n",
      "Found an odd number 3\n"
     ]
    }
   ],
   "source": [
    "num = 10\n",
    "while num >= 0:\n",
    "    num -= 1  # no ++ or --\n",
    "    if num == 2:\n",
    "        break\n",
    "    elif num % 2 == 0:\n",
    "        print(\"Found an even number\", num)\n",
    "        continue\n",
    "    print(\"Found an odd number\", num)"
   ]
  },
  {
   "cell_type": "markdown",
   "metadata": {},
   "source": [
    "## for i in range(), `else` clause\n"
   ]
  },
  {
   "cell_type": "code",
   "execution_count": 25,
   "metadata": {},
   "outputs": [
    {
     "name": "stdout",
     "output_type": "stream",
     "text": [
      "2 is a prime number\n",
      "3 is a prime number\n",
      "4 equals 2 * 2\n",
      "5 is a prime number\n",
      "6 equals 2 * 3\n",
      "7 is a prime number\n",
      "8 equals 2 * 4\n",
      "9 equals 3 * 3\n"
     ]
    }
   ],
   "source": [
    "for n in range(2, 10):\n",
    "    for x in range(2, n):\n",
    "        if n % x == 0:\n",
    "            print(n, 'equals', x, '*', n//x)\n",
    "            break\n",
    "    else:\n",
    "        # loop fell through without finding a factor\n",
    "        print(n, 'is a prime number')"
   ]
  },
  {
   "cell_type": "markdown",
   "metadata": {},
   "source": [
    "## pass statement\n",
    "\n",
    "no action, can be used as place-holder(so that you can working on other code)\n"
   ]
  },
  {
   "cell_type": "code",
   "execution_count": 26,
   "metadata": {},
   "outputs": [],
   "source": [
    "class MyEmptyClass:\n",
    "    pass  # creating minimal classes\n",
    "\n",
    "\n",
    "def initlog(*args):\n",
    "    pass   # Remember to implement this!\n",
    "\n",
    "\n",
    "# while True:\n",
    "#    pass  # Busy-wait for keyboard interrupt (Ctrl+C)"
   ]
  },
  {
   "cell_type": "markdown",
   "metadata": {},
   "source": [
    "## match [/ref](https://zhuanlan.zhihu.com/p/357412487)\n",
    "\n",
    "like switch:\n",
    "\n",
    "- `|` means or, can conbine several literals\n",
    "- the “variable name” `_` acts as a wildcard and never fails to match\n"
   ]
  },
  {
   "cell_type": "code",
   "execution_count": 27,
   "metadata": {},
   "outputs": [],
   "source": [
    "def http_error(status):\n",
    "    match status:\n",
    "        case 400:\n",
    "            return \"Bad request\"\n",
    "        case 401 | 403 | 404:\n",
    "            return \"Not allowed\"\n",
    "        case 404:\n",
    "            return \"Not found\"\n",
    "        case 418:\n",
    "            return \"I'm a teapot\"\n",
    "        case _:\n",
    "            return \"Something's wrong with the Internet\""
   ]
  },
  {
   "cell_type": "markdown",
   "metadata": {},
   "source": [
    "Structural Pattern Matching:\n",
    "\n",
    "- the \"structure\" to be match: list, tuple, class, list of classes ...\n",
    "- for dict, only the key mentioned in the pattern will be checked, ignoring the extra keys\n"
   ]
  },
  {
   "cell_type": "code",
   "execution_count": 28,
   "metadata": {},
   "outputs": [
    {
     "data": {
      "text/plain": [
       "True"
      ]
     },
     "execution_count": 28,
     "metadata": {},
     "output_type": "execute_result"
    }
   ],
   "source": [
    "def dict_test(d):\n",
    "    match d:\n",
    "        case {'a': 1}:\n",
    "            return True\n",
    "        case {'a': 1, 'b': 2}:\n",
    "            return False\n",
    "\n",
    "\n",
    "dict_test({'a': 1})\n",
    "\n",
    "dict_test({'a': 1, 'b': 2})\n",
    "# also return True since the first case only checks 'a' key"
   ]
  },
  {
   "cell_type": "markdown",
   "metadata": {},
   "source": [
    "- A guard (adding `if` guard clause, just like `A if <Condition> else B`)\n",
    "- can be used for [dataclass](https://docs.python.org/3/library/dataclasses.html?highlight=dataclass#module-dataclasses), otherwise `__match_args__` should be set (so that the order is specified)\n"
   ]
  },
  {
   "cell_type": "code",
   "execution_count": 29,
   "metadata": {},
   "outputs": [
    {
     "name": "stdout",
     "output_type": "stream",
     "text": [
      "The point is located on the diagonal Y=X at 1.\n"
     ]
    }
   ],
   "source": [
    "class Point:\n",
    "    __match_args__ = ('x', 'y')\n",
    "\n",
    "    def __init__(self, x, y):\n",
    "        self.x = x\n",
    "        self.y = y\n",
    "\n",
    "# from dataclasses import dataclass\n",
    "\n",
    "# @dataclass\n",
    "# class Point:\n",
    "#     x: int\n",
    "#     y: int\n",
    "\n",
    "\n",
    "point = Point(1, 1)\n",
    "\n",
    "match point:\n",
    "    case Point(x=x, y=y) if x == y:  # guard clause\n",
    "        print(f\"The point is located on the diagonal Y=X at {x}.\")\n",
    "    case Point(x=x, y=y):\n",
    "        print(f\"Point is not on the diagonal.\")"
   ]
  },
  {
   "cell_type": "markdown",
   "metadata": {},
   "source": [
    "- Subpatterns may be captured using the as keyword: `case (Point(x1, y1), Point(x2, y2) as p2): ...` will capture the second element of the input as p2 (as long as the input is a sequence of two points)\n",
    "\n",
    "- Most literals are compared by equality, however the singletons `True`, `False` and `None` are compared by identity.\n",
    "- Patterns may use named constants. These must be dotted names to prevent them from being interpreted as capture variable:\n"
   ]
  },
  {
   "cell_type": "code",
   "execution_count": 30,
   "metadata": {},
   "outputs": [
    {
     "name": "stdout",
     "output_type": "stream",
     "text": [
      "I'm feeling the blues :(\n"
     ]
    }
   ],
   "source": [
    "from enum import Enum\n",
    "\n",
    "\n",
    "class Color(Enum):\n",
    "    RED = 'red'\n",
    "    GREEN = 'green'\n",
    "    BLUE = 'blue'\n",
    "\n",
    "\n",
    "color = Color(input(\"Enter your choice of 'red', 'blue' or 'green': \"))\n",
    "\n",
    "match color:\n",
    "    case Color.RED:\n",
    "        print(\"I see red!\")\n",
    "    case Color.GREEN:\n",
    "        print(\"Grass is green\")\n",
    "    case Color.BLUE:\n",
    "        print(\"I'm feeling the blues :(\")"
   ]
  },
  {
   "cell_type": "markdown",
   "metadata": {},
   "source": [
    "## def function\n",
    "\n",
    "- can return muliple values\n",
    "- return `None` when nothing's following `return` or falling off the end of a function (i.e. there's no `return`)\n",
    "- docstring see [autodocing](https://marketplace.visualstudio.com/items?itemName=njpwerner.autodocstring)\n",
    "\n",
    "### default argument values\n",
    "\n",
    "The default value is evaluated only once. This makes a difference when the default is a mutable object such as a list, dictionary, or instances of most classes. If you don’t want the default to be shared between subsequent calls, default should be set to `None`\n"
   ]
  },
  {
   "cell_type": "code",
   "execution_count": 6,
   "metadata": {},
   "outputs": [
    {
     "name": "stdout",
     "output_type": "stream",
     "text": [
      "[1]\n",
      "[1, 2]\n",
      "[1, 2, 3]\n",
      "[1]\n",
      "[2]\n",
      "[3]\n"
     ]
    }
   ],
   "source": [
    "def ask_ok(prompt, retries=4, reminder='Please try again!'):\n",
    "    \"\"\"_summary_\n",
    "\n",
    "    Args:\n",
    "        prompt (_type_): _description_\n",
    "        retries (int, optional): _description_. Defaults to 4.\n",
    "        reminder (str, optional): _description_. Defaults to 'Please try again!'.\n",
    "\n",
    "    Raises:\n",
    "        ValueError: _description_\n",
    "\n",
    "    Returns:\n",
    "        _type_: _description_\n",
    "    \"\"\"    # the docstring of functions\n",
    "    while True:\n",
    "        ok = input(prompt)\n",
    "        if ok in ('y', 'ye', 'yes'):\n",
    "            return True\n",
    "        if ok in ('n', 'no', 'nop', 'nope'):\n",
    "            return False\n",
    "        retries = retries - 1\n",
    "        if retries < 0:\n",
    "            raise ValueError('invalid user response')\n",
    "        print(reminder)\n",
    "\n",
    "\n",
    "def f1(a, L=[]):\n",
    "    L.append(a)\n",
    "    return L\n",
    "\n",
    "\n",
    "print(f1(1))\n",
    "print(f1(2))\n",
    "print(f1(3))\n",
    "\n",
    "\n",
    "def f2(a, L=None):\n",
    "    if L is None:\n",
    "        L = []\n",
    "    L.append(a)\n",
    "    return L\n",
    "\n",
    "\n",
    "print(f2(1))\n",
    "print(f2(2))\n",
    "print(f2(3))"
   ]
  },
  {
   "cell_type": "markdown",
   "metadata": {},
   "source": [
    "### Keyword Arguments\n",
    "\n",
    "In a function definition, the double asterisk is also known **kwargs. They used to pass a keyword, variable-length argument dictionary to a function. The two asterisks (**) are the important element here, as the word kwargs is conventionally used, though not enforced by the language.\n"
   ]
  },
  {
   "cell_type": "code",
   "execution_count": 9,
   "metadata": {},
   "outputs": [
    {
     "name": "stdout",
     "output_type": "stream",
     "text": [
      "-- This parrot wouldn't voom if you put 1000 volts through it.\n",
      "-- Lovely plumage, the Norwegian Blue\n",
      "-- It's a stiff !\n",
      "-- This parrot wouldn't voom if you put 1000 volts through it.\n",
      "-- Lovely plumage, the Norwegian Blue\n",
      "-- It's a stiff !\n",
      "-- This parrot wouldn't VOOOOOM if you put 1000000 volts through it.\n",
      "-- Lovely plumage, the Norwegian Blue\n",
      "-- It's a stiff !\n",
      "-- This parrot wouldn't VOOOOOM if you put 1000000 volts through it.\n",
      "-- Lovely plumage, the Norwegian Blue\n",
      "-- It's a stiff !\n",
      "-- This parrot wouldn't jump if you put a million volts through it.\n",
      "-- Lovely plumage, the Norwegian Blue\n",
      "-- It's bereft of life !\n",
      "-- This parrot wouldn't voom if you put a thousand volts through it.\n",
      "-- Lovely plumage, the Norwegian Blue\n",
      "-- It's pushing up the daisies !\n",
      "The value of name_1 is Shrey\n",
      "The value of name_2 is Rohan\n",
      "The value of name_3 is Ayush\n"
     ]
    }
   ],
   "source": [
    "def parrot(voltage, state='a stiff', action='voom', type='Norwegian Blue'):\n",
    "    print(\"-- This parrot wouldn't\", action, end=' ')\n",
    "    print(\"if you put\", voltage, \"volts through it.\")\n",
    "    print(\"-- Lovely plumage, the\", type)\n",
    "    print(\"-- It's\", state, \"!\")\n",
    "\n",
    "\n",
    "parrot(1000)                                          # 1 positional argument\n",
    "parrot(voltage=1000)                                  # 1 keyword argument\n",
    "parrot(voltage=1000000, action='VOOOOOM')             # 2 keyword arguments\n",
    "parrot(action='VOOOOOM', voltage=1000000)             # 2 keyword arguments\n",
    "parrot('a million', 'bereft of life', 'jump')         # 3 positional arguments\n",
    "parrot('a thousand', state='pushing up the daisies')  # 1 positional, 1 keyword\n",
    "\n",
    "# invalid calls:\n",
    "# parrot()                     # required argument missing\n",
    "# parrot(voltage=5.0, 'dead')  # non-keyword argument after a keyword argument\n",
    "# parrot(110, voltage=220)     # duplicate value for the same argument\n",
    "# parrot(actor='John Cleese')  # unknown keyword argument\n",
    "\n",
    "\n",
    "def function(**kwargs):\n",
    "    for key, value in kwargs.items():\n",
    "        print(\"The value of {} is {}\".format(key, value))\n",
    "\n",
    "\n",
    "function(name_1=\"Shrey\", name_2=\"Rohan\", name_3=\"Ayush\")"
   ]
  },
  {
   "cell_type": "markdown",
   "metadata": {},
   "source": [
    "### Special parameters\n",
    "\n",
    "```\n",
    "def f(pos1, pos2, /, pos_or_kwd, *, kwd1, kwd2):\n",
    "      -----------    ----------     ----------\n",
    "        |             |                  |\n",
    "        |        Positional or keyword   |\n",
    "        |                                - Keyword only\n",
    "         -- Positional only\n",
    "```\n",
    "\n",
    "where `/` and `*` are optional. If used, these symbols indicate the kind of parameter by how the arguments may be passed to the function: positional-only, positional-or-keyword, and keyword-only. Keyword parameters are also referred to as named parameters. If `/` and `*` are not present in the function definition, arguments may be passed to a function by position or by keyword.\n",
    "\n",
    "- Use positional-only if you want the name of the parameters to not be available to the user. This is useful when parameter names have no real meaning, if you want to enforce the order of the arguments when the function is called or if you need to take some positional parameters and arbitrary keywords.\n",
    "\n",
    "- Use keyword-only when names have meaning and the function definition is more understandable by being explicit with names or you want to prevent users relying on the position of the argument being passed.\n",
    "\n",
    "- For an API, use positional-only to prevent breaking API changes if the parameter’s name is modified in the future.\n"
   ]
  },
  {
   "cell_type": "markdown",
   "metadata": {},
   "source": [
    "### Nested Functions [\\ref](https://www.freecodecamp.org/news/nested-functions-in-python/)\n",
    "\n",
    "> why using nested functions?\n",
    "> there are many valid reasons to use nested functions, among the most common are encapsulation and closures / factory functions.\n",
    "\n",
    "- **Data encapsulation** (data hiding or data privacy)\n",
    "  - the inner function can't be called from the outside directly\n",
    "  - however, the inner function can be accessed from the outside as **Closure** (i.e. a nested function that references one or more variables from its enclosing scope[\\ref](https://www.pythontutorial.net/advanced-python/python-closures/))\n",
    "- conditions on creating closure:\n",
    "  1. There must be a nested function\n",
    "  2. The inner function has to refer to a value that is defined in the enclosing scope\n",
    "  3. The enclosing function has to **return the nested function**\n"
   ]
  },
  {
   "cell_type": "code",
   "execution_count": 13,
   "metadata": {},
   "outputs": [
    {
     "name": "stdout",
     "output_type": "stream",
     "text": [
      "115\n",
      "30\n",
      "30\n",
      "30\n",
      "10\n",
      "20\n",
      "30\n"
     ]
    }
   ],
   "source": [
    "def num1(x):\n",
    "    # below is Closure\n",
    "    z = x**2\n",
    "\n",
    "    def num2(y):\n",
    "        return x + y + z\n",
    "    # above is Closure\n",
    "    return num2\n",
    "\n",
    "\n",
    "print(num1(10)(5))\n",
    "\n",
    "# lambda function\n",
    "multipliers = []\n",
    "for x in range(1, 4):\n",
    "    # each member of the list is a closure `lambda y: x * y`\n",
    "    multipliers.append(lambda y: x * y)\n",
    "\n",
    "m1, m2, m3 = multipliers\n",
    "\n",
    "print(m1(10))  # `x` is evaluted when m1(10) is called, at this time `x` is already 3\n",
    "print(m2(10))\n",
    "print(m3(10))\n",
    "\n",
    "# nested function\n",
    "\n",
    "\n",
    "def multiplier(x):\n",
    "    def multiply(y):\n",
    "        return x * y\n",
    "    return multiply\n",
    "\n",
    "\n",
    "multipliers = []\n",
    "for x in range(1, 4):\n",
    "    multipliers.append(multiplier(x))  # `x` is evaluated in the loop\n",
    "\n",
    "m1, m2, m3 = multipliers\n",
    "\n",
    "print(m1(10))\n",
    "print(m2(10))\n",
    "print(m3(10))"
   ]
  },
  {
   "cell_type": "markdown",
   "metadata": {},
   "source": [
    "- to change the var in the outer function, use `nonlocal` keyword (about [nonlocal scope](https://www.pythontutorial.net/advanced-python/python-nonlocal/) )\n"
   ]
  },
  {
   "cell_type": "code",
   "execution_count": 6,
   "metadata": {},
   "outputs": [
    {
     "name": "stdout",
     "output_type": "stream",
     "text": [
      "2\n",
      "9\n",
      "after the inner function excuted, x is:  2\n",
      "2\n",
      "9\n",
      "after the inner function excuted, x is:  6\n"
     ]
    }
   ],
   "source": [
    "def function1():  # outer function\n",
    "    x = 2  # A variable defined within the outer function\n",
    "\n",
    "    def function2(a):  # inner function\n",
    "       # Let's define a new variable within the inner function\n",
    "       # rather than changing the value of x of the outer function\n",
    "        x = 6\n",
    "        print(a+x)\n",
    "    print(x)  # to display the value of x of the outer function\n",
    "    function2(3)\n",
    "    print(\"after the inner function excuted, x is: \", x)  # x won't be changed\n",
    "\n",
    "\n",
    "function1()\n",
    "\n",
    "\n",
    "def func1():\n",
    "    x = 2  # local scope for func1, nonlocal scope for func2\n",
    "\n",
    "    def func2(a):\n",
    "        nonlocal x  # specify you're using the nonlocal scope variable\n",
    "        x = 6\n",
    "        print(a+x)\n",
    "    print(x)\n",
    "    func2(3)\n",
    "    print(\"after the inner function excuted, x is: \", x)  # x is changed\n",
    "\n",
    "\n",
    "func1()"
   ]
  }
 ],
 "metadata": {
  "kernelspec": {
   "display_name": "Python 3",
   "language": "python",
   "name": "python3"
  },
  "language_info": {
   "codemirror_mode": {
    "name": "ipython",
    "version": 3
   },
   "file_extension": ".py",
   "mimetype": "text/x-python",
   "name": "python",
   "nbconvert_exporter": "python",
   "pygments_lexer": "ipython3",
   "version": "3.10.6"
  }
 },
 "nbformat": 4,
 "nbformat_minor": 2
}
